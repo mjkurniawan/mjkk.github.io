{
  "nbformat": 4,
  "nbformat_minor": 0,
  "metadata": {
    "colab": {
      "name": "LatihanSBA.ipynb",
      "provenance": [],
      "collapsed_sections": [],
      "include_colab_link": true
    },
    "kernelspec": {
      "name": "python3",
      "display_name": "Python 3"
    }
  },
  "cells": [
    {
      "cell_type": "markdown",
      "metadata": {
        "id": "view-in-github",
        "colab_type": "text"
      },
      "source": [
        "<a href=\"https://colab.research.google.com/github/mjkurniawan/mjkk.github.io/blob/master/LatihanSBA.ipynb\" target=\"_parent\"><img src=\"https://colab.research.google.com/assets/colab-badge.svg\" alt=\"Open In Colab\"/></a>"
      ]
    },
    {
      "cell_type": "markdown",
      "metadata": {
        "id": "3ATJc_nuZqbb",
        "colab_type": "text"
      },
      "source": [
        "# Cara simpan\n",
        "> klik `file` -> `Download .py`\n",
        "## kemudian upload ke netacad di soal anda. "
      ]
    },
    {
      "cell_type": "code",
      "metadata": {
        "id": "0KtLA3IxXwIR",
        "colab_type": "code",
        "colab": {
          "base_uri": "https://localhost:8080/",
          "height": 66
        },
        "outputId": "a08dd16f-e858-4a18-a47e-e7b3ce099949"
      },
      "source": [
        "'''\n",
        "namafile: latihanSBA.py\n",
        "Lembar kerja/script Latihan SBA\n",
        "'''\n",
        "# >>>>>>LEMBAR KERJA>>>>>>>>>\n",
        "# lembar ini hanya berisi pendefinisian fungsi dan class saja\n",
        "\n",
        "#email netacad, JANGAN SAMPAI LUPA >>>>>>><<<<<<<\n",
        "email = 'mj.kurniawan00@gmail.com'\n",
        "\n",
        "#soal 1\n",
        "class titik2d():\n",
        "    def __init__(self, x, y):\n",
        "        self.X = x\n",
        "        self.Y = y\n",
        "\n",
        "    def ambiltitik(self):\n",
        "        return (self.X,self.Y)\n",
        "\n",
        "    def tambahkan(self,titik):\n",
        "        self.X = self.X + titik.X\n",
        "        self.Y = self.Y + titik.Y\n",
        "    \n",
        "# soal 2\n",
        "def run():\n",
        "    print('Masukan x dan y dipisahkan oleh spasi (contoh:2 3)')\n",
        "    string_input = input()\n",
        "    return titik2d(int(string_input.split()[0]),int(string_input.split()[0]))\n",
        "\n",
        "# >>>>>>AKHIR LEMBAR KERJA>>>>>>>>>\n",
        "\n",
        "\n",
        "\n",
        "if __name__ == '__main__':\n",
        "  # >>>>>TEST DI SINI>>>>>>\n",
        "  # gunakan BLOCK MAIN ini untuk mengetes\n",
        "\n",
        "  # untuk pengetesan kode hanya boleh di bagian sini\n",
        "  # silakan test sesuka hati di sini\n",
        "  t1 = run()\n",
        "  print('titik1:',t1.ambiltitik())\n",
        "\n",
        "  # >>>>>AKHIR TEST DI SINI>>>>>>\n"
      ],
      "execution_count": 3,
      "outputs": [
        {
          "output_type": "stream",
          "text": [
            "Masukan x dan y dipisahkan oleh spasi (contoh:2 3)\n",
            "2 3\n",
            "titik1: (2, 2)\n"
          ],
          "name": "stdout"
        }
      ]
    }
  ]
}