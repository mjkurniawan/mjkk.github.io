{
  "nbformat": 4,
  "nbformat_minor": 0,
  "metadata": {
    "colab": {
      "name": "Salinan dari Project 1 - list and dictionary.ipynb",
      "provenance": [],
      "collapsed_sections": [],
      "include_colab_link": true
    },
    "kernelspec": {
      "name": "python3",
      "display_name": "Python 3"
    }
  },
  "cells": [
    {
      "cell_type": "markdown",
      "metadata": {
        "id": "view-in-github",
        "colab_type": "text"
      },
      "source": [
        "<a href=\"https://colab.research.google.com/github/mjkurniawan/mjkk.github.io/blob/master/Salinan_dari_Project_1_list_and_dictionary.ipynb\" target=\"_parent\"><img src=\"https://colab.research.google.com/assets/colab-badge.svg\" alt=\"Open In Colab\"/></a>"
      ]
    },
    {
      "cell_type": "markdown",
      "metadata": {
        "id": "PmdKYwW_NUjc",
        "colab_type": "text"
      },
      "source": [
        "# Project 1 - Working with list and dictionary \n",
        "## (DEADLINE: 06.00 WIB 8 JUNI 2020)\n",
        "Pada project ini peserta pelatihan python akan membuat code-code untuk mengolah `list` dan `dictionary` \n",
        "\n",
        "Project items yang dibutuhkan:\n",
        "- Pemahaman dan pembuatan `fungsi`, `variabel`, dan `tipe data`\n",
        "- pemahaman `list` dan `dictionary`\n",
        "- logika dasar pemrograman\n",
        "\n",
        "**Note: Tidak diperkenankan untuk menggunakan library/module lain, kecuali disediakan atau didefinisikan**\n",
        "\n",
        ">>**BOLEH BERDISKUSI TANPA MEMBERIKAN JAWABAN!!!**\n",
        "\n"
      ]
    },
    {
      "cell_type": "markdown",
      "metadata": {
        "id": "wmfagSdvOz6m",
        "colab_type": "text"
      },
      "source": [
        "### 1. Buatlah fungsi `letter_catalog` dengan sebuah positional argument berupa list dan keyword argument `letter` untuk nilai default 'A'. Fungsi `letter_catalog` akan mengembalikan sebuah list yang berisi nama-nama buah yang dimulai dengan huruf yang ada keyword argument `letter`. Jika tidak ada item di list inputan tersebut yang diawali dengan huruf yang didefinisikan di keyword `letter` maka fungsi mengembalikan list kosong.\n",
        "\n"
      ]
    },
    {
      "cell_type": "code",
      "metadata": {
        "id": "SZJw59BEO-fd",
        "colab_type": "code",
        "colab": {}
      },
      "source": [
        "#Graded\n",
        "\n",
        "def letter_catalog(items,letter='A'):\n",
        "  pass\n",
        "  # MULAI KODEMU DI SINI\n",
        "  \n"
      ],
      "execution_count": 0,
      "outputs": []
    },
    {
      "cell_type": "code",
      "metadata": {
        "id": "7fQUkRXl0zCa",
        "colab_type": "code",
        "colab": {}
      },
      "source": [
        "# Cek output kode anda\n",
        "letter_catalog(['Apple','Avocado','Banana','Blackberries','Blueberries','Cherries'],letter='A')"
      ],
      "execution_count": 0,
      "outputs": []
    },
    {
      "cell_type": "markdown",
      "metadata": {
        "id": "1_Va_bPq0_r1",
        "colab_type": "text"
      },
      "source": [
        "Expected output:\n",
        "```\n",
        "['Apple', 'Avocado']\n",
        "```"
      ]
    },
    {
      "cell_type": "markdown",
      "metadata": {
        "id": "1plym_6cJTmH",
        "colab_type": "text"
      },
      "source": [
        "### 2. Buatlah fungsi `counter_item` yang memiliki sebuah input argument berupa list. Fungsi ini mengembalikan sebuah dictionary yang menghitung jumlah buah dalam list input, dengan `key` berupa nama buah tersebut dan `value` berupa jumlah nama buah tersebut muncul di list input."
      ]
    },
    {
      "cell_type": "code",
      "metadata": {
        "id": "xZCCOKQIve9d",
        "colab_type": "code",
        "colab": {}
      },
      "source": [
        "#Graded\n",
        "\n",
        "def counter_item(items):\n",
        "  pass\n",
        "  # MULAI KODEMU DI SINI\n",
        "  dictBuah ={}\n",
        "  for buah in items :\n",
        "    dictBuah[buah] = dictBuah.get(buah,0)+1\n",
        "  return dictBuah\n",
        "  \n"
      ],
      "execution_count": 0,
      "outputs": []
    },
    {
      "cell_type": "code",
      "metadata": {
        "id": "KfxtWsNj1S19",
        "colab_type": "code",
        "outputId": "c5fe268b-6c0c-4295-a0d2-7aaa3e8b5838",
        "colab": {
          "base_uri": "https://localhost:8080/",
          "height": 34
        }
      },
      "source": [
        "# Cek output kode anda\n",
        "counter_item(['Apple','Apple','Apple','Blueberries','Blueberries','Blueberries'])"
      ],
      "execution_count": 0,
      "outputs": [
        {
          "output_type": "execute_result",
          "data": {
            "text/plain": [
              "{'Apple': 3, 'Blueberries': 3}"
            ]
          },
          "metadata": {
            "tags": []
          },
          "execution_count": 21
        }
      ]
    },
    {
      "cell_type": "markdown",
      "metadata": {
        "id": "qSh_3MqK1HkK",
        "colab_type": "text"
      },
      "source": [
        "Expected output:\n",
        "```\n",
        "{'Apple': 3, 'Blueberries': 3}\n",
        "```"
      ]
    },
    {
      "cell_type": "markdown",
      "metadata": {
        "id": "RQ5u4YdFKqcL",
        "colab_type": "text"
      },
      "source": [
        "### 3. Di bawah ini sudah ada tiga variables `fruits`, `prices`, dan `chart`. \n",
        "- Buatlah sebuah dictionary yang berupa daftar harga buah dengan `key` berupa nama buah di variable `fruits` dan dengan `value` berupa harga dari buah tersebut di variable `price` (sudah diurutkan sesuai dengan nama-nama buah di varibale `fruits`, kemudian Dictionary tersebut disimpan di dalam variable `fruit_price`.\n",
        "- Selanjutnya, Buatlah fungsi `total_price` dengan dua input yaitu: 1) dictionary yang merupakan keluaran dari fungsi `counter_item` dan 2) dictionary harga buah  `fruit_price`. Fungsi ini mengeluarkan sebuah total harga dari daftar buah di dictionary keluaran dari `counter_item`.\n",
        "\n",
        "**Hint**: Gunakan fungsi `counter_item` di soal nomor 2."
      ]
    },
    {
      "cell_type": "code",
      "metadata": {
        "id": "IfdaUhaxwWNA",
        "colab_type": "code",
        "colab": {}
      },
      "source": [
        "#Graded\n",
        "\n",
        "# dua variable berikut jangan diubah\n",
        "fruits = ['Apple','Avocado','Banana','Blackberries','Blueberries','Cherries','Date Fruit','Grapes','Guava','Jackfruit','Kiwifruit']\n",
        "prices = [6,5,3,10,12,7,14,15,8,7,9]\n",
        "\n",
        "# list buah\n",
        "chart = ['Blueberries','Blueberries','Grapes','Apple','Apple','Apple','Blueberries','Guava','Jackfruit','Blueberries','Jackfruit']\n",
        "# couterBauh = counter_item(chart)\n",
        "\n",
        "# MULAI KODEMU DI SINI\n",
        "fruit_price = dict(zip(fruits,prices))\n",
        "\n",
        "def total_price(dcounter,fprice):\n",
        "  totalBelanja = 0\n",
        "  for buah, jumlah in dcounter.items():\n",
        "    totalBelanja += jumlah * fprice[buah]\n",
        "  return totalBelanja\n"
      ],
      "execution_count": 0,
      "outputs": []
    },
    {
      "cell_type": "code",
      "metadata": {
        "id": "xW14Y6f41b8e",
        "colab_type": "code",
        "outputId": "ec5faf24-5604-44c5-fd1d-c8af05800b98",
        "colab": {
          "base_uri": "https://localhost:8080/",
          "height": 34
        }
      },
      "source": [
        "# Cek output kode anda\n",
        "total_price(counter_item(chart),fruit_price)"
      ],
      "execution_count": 0,
      "outputs": [
        {
          "output_type": "execute_result",
          "data": {
            "text/plain": [
              "103"
            ]
          },
          "metadata": {
            "tags": []
          },
          "execution_count": 26
        }
      ]
    },
    {
      "cell_type": "markdown",
      "metadata": {
        "id": "pbcpTPNo1LYW",
        "colab_type": "text"
      },
      "source": [
        "Expected output:\n",
        "```\n",
        "103\n",
        "```"
      ]
    },
    {
      "cell_type": "markdown",
      "metadata": {
        "id": "U5VzcIs5R-MJ",
        "colab_type": "text"
      },
      "source": [
        "### 4. Buatlah fungsi `discounted_price` dengan dua positional arguments input dari keluaran fungsi totalprice dan discount dalam persen(80 berarti 80%, dst), dan satu keyword argument `minprice` yang menunjukkan hanya dengan minimum price tersebut yang hanya di-discount, set default value `minprice` ke 100. Fungsi tersebut menghitung nilai harga akhir setelah di-discount sebesar discount variable (argument kedua). Untuk harga total yang kurang dari `minprice` maka keluarannya sama dengan harga total tersebut tanpa discount."
      ]
    },
    {
      "cell_type": "code",
      "metadata": {
        "id": "aHDCFfNQzUzC",
        "colab_type": "code",
        "colab": {}
      },
      "source": [
        "#Graded\n",
        "\n",
        "def discounted_price(total,discount,minprice=100):\n",
        "  pass\n",
        "  # MULAI KODEMU DI SINI\n",
        "  if total >= minprice :\n",
        "    hargaDiskon = total-(total*discount/100)\n",
        "    return hargaDiskon\n",
        "  else:\n",
        "    return total\n",
        "  "
      ],
      "execution_count": 0,
      "outputs": []
    },
    {
      "cell_type": "code",
      "metadata": {
        "id": "yNhIwaAZ1lzX",
        "colab_type": "code",
        "outputId": "809db820-9f23-4cb8-b29f-cc9a7d4cea94",
        "colab": {
          "base_uri": "https://localhost:8080/",
          "height": 34
        }
      },
      "source": [
        "# Cek output kode anda\n",
        "discounted_price(total_price(counter_item(chart),fruit_price),10,minprice=100)"
      ],
      "execution_count": 0,
      "outputs": [
        {
          "output_type": "execute_result",
          "data": {
            "text/plain": [
              "92.7"
            ]
          },
          "metadata": {
            "tags": []
          },
          "execution_count": 34
        }
      ]
    },
    {
      "cell_type": "markdown",
      "metadata": {
        "id": "cweITli-1Mhp",
        "colab_type": "text"
      },
      "source": [
        "Expected output:\n",
        "```\n",
        "92.7\n",
        "```"
      ]
    },
    {
      "cell_type": "markdown",
      "metadata": {
        "id": "wFj8-NVV3Zh1",
        "colab_type": "text"
      },
      "source": [
        "### 5. Buatlah fungsi `print_summary` dengan 2 posisional argument input, list nama2 buah (cth: seperti variable `chart`) dan dictionary harga buah (cth: seperti variable `fruit_price`, yang mengeluarkan tulisan ringakasan dari pembelian buah seperti berikut ini.\n",
        "\n",
        "cth keluaran:\n",
        "```\n",
        "3 Apple : 18\n",
        "4 Blueberries : 48\n",
        "1 Grapes : 15\n",
        "1 Guava : 8\n",
        "2 Jackfruit : 14\n",
        "total : 103\n",
        "discount price : 92.7\n",
        "```\n",
        "dengan format `jumlahbuah`\\<spasi\\>`namabuah`\\<spasi\\>`totalhargabuah\\n` dengan nama nama buah berurutan sesuai abjad `ascending`, kemudian diikuti total harga semuanya dan discount price dengan besaran 10% dengan minimum harga pembelian 100.\n",
        "\n",
        "**Note**: dipisahkan hanya satu spasi. Output harus sama dengan contoh diatas untuk pemanggilan fungsi berikut ini.\n",
        "```\n",
        "print_summary(chart,fruit_price)\n",
        "```\n",
        "\n",
        "\n",
        "\n",
        "\n"
      ]
    },
    {
      "cell_type": "code",
      "metadata": {
        "id": "zXQzarsv1_bS",
        "colab_type": "code",
        "colab": {}
      },
      "source": [
        "#Graded\n",
        "\n",
        "def print_summary(items,fprice):\n",
        "  pass\n",
        "  # MULAI KODEMU DI SINI\n",
        "  counterBuah = counter_item(sorted(items))\n",
        "  # tagihan = total_price(counterBuah,fprice)\n",
        "  for buah, jumlah in counterBuah.items():\n",
        "    print(jumlah, buah, ':', jumlah*fprice[buah])\n",
        "  print(\"total :\", total_price(counterBuah,fprice))\n",
        "  print(\"discount price :\", discounted_price(total_price(counterBuah,fprice),10,minprice=100))"
      ],
      "execution_count": 0,
      "outputs": []
    },
    {
      "cell_type": "code",
      "metadata": {
        "id": "lh0v-YiH1w24",
        "colab_type": "code",
        "outputId": "ba3f180c-4195-4df1-b551-a535b44ae2fb",
        "colab": {
          "base_uri": "https://localhost:8080/",
          "height": 136
        }
      },
      "source": [
        "# Cek output kode anda\n",
        "print_summary(chart,fruit_price)\n",
        "  "
      ],
      "execution_count": 0,
      "outputs": [
        {
          "output_type": "stream",
          "text": [
            "3 Apple : 18\n",
            "4 Blueberries : 48\n",
            "1 Grapes : 15\n",
            "1 Guava : 8\n",
            "2 Jackfruit : 14\n",
            "total : 103\n",
            "discount price : 92.7\n"
          ],
          "name": "stdout"
        }
      ]
    },
    {
      "cell_type": "markdown",
      "metadata": {
        "id": "UroVZiY51Oqk",
        "colab_type": "text"
      },
      "source": [
        "Expected output:\n",
        "```\n",
        "3 Apple : 18\n",
        "4 Blueberries : 48\n",
        "1 Grapes : 15\n",
        "1 Guava : 8\n",
        "2 Jackfruit : 14\n",
        "total : 103\n",
        "discount price : 92.7\n",
        "```"
      ]
    },
    {
      "cell_type": "markdown",
      "metadata": {
        "id": "WoJFPIBvwg8L",
        "colab_type": "text"
      },
      "source": [
        "# Cara Submit\n",
        "0. Isikan variable priority dengan nilai yang lebih besar dari submisi sebelumnya untuk revisi.\n",
        "1. Tuliskan email akun netacad anda di variable email (tentunya dengan tanda kutip) \n",
        "2. Copy-paste **SEMUA** cell yang ada komentar `#Graded` ke cell code di bawah ini.\n",
        "3. Simpan kode tersebut sebagai p1.py\n",
        "4. Submit file ke google form berikut: https://forms.gle/6AQ8BYM8UoMK7kJg6\n",
        "5. Pengisian form membutuhkan anda login ke akun google anda.\n",
        "\n"
      ]
    },
    {
      "cell_type": "code",
      "metadata": {
        "id": "V1eLQuC9xgZ-",
        "colab_type": "code",
        "colab": {}
      },
      "source": [
        "# nama file p1.py \n",
        "# Isikan email anda dan copy semua cell code yang dengan komentar #Graded\n",
        "\n",
        "# untuk revisi dan resubmisi sebelum deadline\n",
        "# silakan di resubmit dengan nilai variable priority yang lebih besar dari\n",
        "# nilai priority submisi sebelumnya\n",
        "# JIKA TIDAK ADA VARIABLE priority DIANGGAP priority=0\n",
        "priority = 0\n",
        "\n",
        "#netacad email cth: 'abcd@gmail.com'\n",
        "email=''\n",
        " \n",
        "# copy-paste semua #Graded cells YANG SUDAH ANDA KERJAKAN di bawah ini"
      ],
      "execution_count": 0,
      "outputs": []
    }
  ]
}