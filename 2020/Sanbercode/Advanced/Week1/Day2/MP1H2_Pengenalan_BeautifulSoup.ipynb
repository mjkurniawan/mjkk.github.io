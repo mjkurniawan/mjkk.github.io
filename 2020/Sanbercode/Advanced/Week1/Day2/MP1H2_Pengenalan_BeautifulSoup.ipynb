{
  "nbformat": 4,
  "nbformat_minor": 0,
  "metadata": {
    "colab": {
      "name": "MP1H2_Pengenalan BeautifulSoup",
      "provenance": [],
      "collapsed_sections": [],
      "authorship_tag": "ABX9TyMyCmPBtOMWLy6f3NAi1XKG",
      "include_colab_link": true
    },
    "kernelspec": {
      "name": "python3",
      "display_name": "Python 3"
    }
  },
  "cells": [
    {
      "cell_type": "markdown",
      "metadata": {
        "id": "view-in-github",
        "colab_type": "text"
      },
      "source": [
        "<a href=\"https://colab.research.google.com/github/mjkurniawan/mjkk.github.io/blob/master/2020/Sanbercode/Advanced/Week1/Day2/MP1H2_Pengenalan_BeautifulSoup.ipynb\" target=\"_parent\"><img src=\"https://colab.research.google.com/assets/colab-badge.svg\" alt=\"Open In Colab\"/></a>"
      ]
    },
    {
      "cell_type": "markdown",
      "metadata": {
        "id": "Vm_m4RZ8rfF_",
        "colab_type": "text"
      },
      "source": [
        "Untuk menginstall bs4 bisa menggunakan pip atau conda.\n",
        "\n",
        "pip install beautifulsoup4"
      ]
    },
    {
      "cell_type": "markdown",
      "metadata": {
        "id": "TH8qc_3hrjpB",
        "colab_type": "text"
      },
      "source": [
        "Kita import libray yang kita butuhkan,"
      ]
    },
    {
      "cell_type": "code",
      "metadata": {
        "id": "TreAzUGqrng0",
        "colab_type": "code",
        "colab": {}
      },
      "source": [
        "from urllib.request import urlopen\n",
        "from bs4 import BeautifulSoup"
      ],
      "execution_count": null,
      "outputs": []
    },
    {
      "cell_type": "markdown",
      "metadata": {
        "id": "d5nyi3KErrZU",
        "colab_type": "text"
      },
      "source": [
        "\n",
        "*   urllib.request digunakan untuk membuka url yang akan ambil datanya\n",
        "\n",
        "*   bs4 merupakan library yang kita gunakan untuk memanggil atau menggunakan BeautifulSoup untuk mengambil data dari HTML.\n",
        "\n",
        "\n"
      ]
    },
    {
      "cell_type": "code",
      "metadata": {
        "id": "fYySBdKwsRSz",
        "colab_type": "code",
        "colab": {}
      },
      "source": [
        "alamat = \"https://blog.sanbercode.com/\"\n",
        "html = urlopen(alamat)\n",
        "data = BeautifulSoup(html, 'html.parser')"
      ],
      "execution_count": null,
      "outputs": []
    },
    {
      "cell_type": "markdown",
      "metadata": {
        "id": "GyzwpM-LsSGb",
        "colab_type": "text"
      },
      "source": [
        "Pada bagian alamat kita bisa ubah menjadi website yang kita inginkan tapi ingat, tidak semua website memperbolehkan bot untuk melakukan akses.\n",
        "\n",
        "Sebelum memulai untuk mangambil data kita harus menentukan pada bagian mana kita akan mengambil datanya. Seperti yang disebutkan pada bagian sebelumnya, mengerti HTML dan komponen di dalamnya sangat penting. Kita ambil contoh kita akan mencoba mengambil data di website blog.sanbercode\n",
        "\n",
        "Misal kita akan mengambil kata-kata Mengenal Dunia Programming, maka kita bisa melakukan inspeksi komponen html dengan cara klik kanan pada tulisan tersebut."
      ]
    },
    {
      "cell_type": "markdown",
      "metadata": {
        "id": "DCuJ0ymMsXAb",
        "colab_type": "text"
      },
      "source": [
        "Setelah kita klik maka akan muncul halaman inspeksi, lalu dari halaman tersebut kita mendapatkan tag <a> dan class = “text-dark”. Maka data tersebut dapat kita masukan pada kode selanjutnya"
      ]
    },
    {
      "cell_type": "code",
      "metadata": {
        "id": "EIR8IJw8smMx",
        "colab_type": "code",
        "colab": {}
      },
      "source": [
        "items = data.findAll(\"a\", {\"class\":\"text-dark\"})"
      ],
      "execution_count": null,
      "outputs": []
    },
    {
      "cell_type": "markdown",
      "metadata": {
        "id": "91EaaFBpsumR",
        "colab_type": "text"
      },
      "source": [
        "findAll digunakan untuk mencari semua tags “a” dan class “text-dark” pada halaman tersebut. jika kita uji dengan menggunakan print (items) maka akan kita dapatkan hasil,"
      ]
    },
    {
      "cell_type": "code",
      "metadata": {
        "id": "a4wTZQwKsv3J",
        "colab_type": "code",
        "colab": {
          "base_uri": "https://localhost:8080/",
          "height": 265
        },
        "outputId": "89474971-8d31-4269-e669-cf5b577ddbfb"
      },
      "source": [
        "print(items)\n",
        "print(len(items))"
      ],
      "execution_count": null,
      "outputs": [
        {
          "output_type": "stream",
          "text": [
            "[<a class=\"text-dark\" href=\"https://blog.sanbercode.com/mengenal-dunia-programming/\">\n",
            "                Mengenal dunia Programming</a>, <a class=\"text-dark\" href=\"https://blog.sanbercode.com/implementasi-debugging-tools-telescope-di-laravel/\">\n",
            "                Implementasi Debugging Tools Telescope di Laravel</a>, <a class=\"text-dark\" href=\"https://blog.sanbercode.com/facebook-login-tutorial-dengan-laravel-5-7-dan-socialite/\">\n",
            "                Facebook Login Tutorial dengan Laravel 5.7 dan Socialite</a>, <a class=\"text-dark\" href=\"https://blog.sanbercode.com/agile-software-development-sebuah-pengenalan/\">\n",
            "                Agile Software Development, Sebuah Pengenalan</a>, <a class=\"text-dark\" href=\"https://blog.sanbercode.com/knowledge-management-apa-sih/\">\n",
            "                Knowledge Management, Apa sih?</a>, <a class=\"text-dark\" href=\"https://blog.sanbercode.com/server-upload-file-ke-google-drive-via-command-line/\">\n",
            "                Server upload file ke google drive via command line</a>, <a class=\"text-dark\" href=\"https://blog.sanbercode.com/mockup-ui/\">\n",
            "                Mockup UI</a>, <a alt=\"View all posts in Backend\" class=\"text-dark\" href=\"https://blog.sanbercode.com/category/backend/\">Backend</a>, <a alt=\"View all posts in Devops\" class=\"text-dark\" href=\"https://blog.sanbercode.com/category/devops/\">Devops</a>, <a alt=\"View all posts in Frontend\" class=\"text-dark\" href=\"https://blog.sanbercode.com/category/frontend/\">Frontend</a>, <a alt=\"View all posts in Info\" class=\"text-dark\" href=\"https://blog.sanbercode.com/category/info/\">Info</a>, <a alt=\"View all posts in Management and Support\" class=\"text-dark\" href=\"https://blog.sanbercode.com/category/management-and-support/\">Management and Support</a>, <a class=\"text-dark\" href=\"https://blog.sanbercode.com/server-upload-file-ke-google-drive-via-command-line/\">\n",
            "                        Server upload file ke google drive via command line</a>, <a class=\"text-dark\" href=\"https://blog.sanbercode.com/telegram-notification-channel-via-laravel-5-8/\">\n",
            "                        Telegram Notification Channel via Laravel 5.8</a>, <a class=\"text-dark\" href=\"https://blog.sanbercode.com/mockup-ui/\">\n",
            "                        Mockup UI</a>, <a class=\"text-dark\" href=\"https://blog.sanbercode.com/knowledge-management-apa-sih/\">\n",
            "                        Knowledge Management, Apa sih?</a>, <a class=\"text-dark\" href=\"https://blog.sanbercode.com/agile-software-development-sebuah-pengenalan/\">\n",
            "                        Agile Software Development, Sebuah Pengenalan</a>]\n",
            "17\n"
          ],
          "name": "stdout"
        }
      ]
    },
    {
      "cell_type": "markdown",
      "metadata": {
        "id": "ymC8Ri9ks3sa",
        "colab_type": "text"
      },
      "source": [
        "Terdapat terlalu banyak data yang didapatkan, artinya banyak komponen html yang memiliki tag dan class yg sama. Jika kita lihat maka kita tahu ada 17 isi dari variabel items yang kita tahu ternyata adalah list. Karena hasil scrap adalah list artinya kita dapat mengambil data yang kita butuhkan dengan memberikan indeks pada variabel items.\n",
        "\n",
        "*Mengenal Dunia Programming* berada pada urutan pertama, artinya indeks nomor 0 maka kita tulis kembali persamaannya menjadi,"
      ]
    },
    {
      "cell_type": "code",
      "metadata": {
        "id": "0lpUTwuYs8f4",
        "colab_type": "code",
        "colab": {
          "base_uri": "https://localhost:8080/",
          "height": 50
        },
        "outputId": "ace6df54-9560-40d5-c142-ca6b856ca8f0"
      },
      "source": [
        "items = data.findAll(\"a\", {\"class\":\"text-dark\"})[0]\n",
        "print(items)"
      ],
      "execution_count": null,
      "outputs": [
        {
          "output_type": "stream",
          "text": [
            "<a class=\"text-dark\" href=\"https://blog.sanbercode.com/mengenal-dunia-programming/\">\n",
            "                Mengenal dunia Programming</a>\n"
          ],
          "name": "stdout"
        }
      ]
    },
    {
      "cell_type": "markdown",
      "metadata": {
        "id": "V2JjjOGQuWUh",
        "colab_type": "text"
      },
      "source": [
        "Masih belum berbentuk seperti yang kita inginkan, yang dapat kita lakukan adalah kita bisa mengambil hanya kompenen teks dalam tag “a” tersebut dengan menambahkan get_text()"
      ]
    },
    {
      "cell_type": "code",
      "metadata": {
        "id": "pO0RDJHguXcC",
        "colab_type": "code",
        "colab": {
          "base_uri": "https://localhost:8080/",
          "height": 66
        },
        "outputId": "dac88b3c-337b-41b2-f8f3-3ed5dae92183"
      },
      "source": [
        "items = data.findAll(\"a\", {\"class\":\"text-dark\"})[0]\n",
        "print(items.get_text())\n",
        "print(items.get_text().strip())"
      ],
      "execution_count": null,
      "outputs": [
        {
          "output_type": "stream",
          "text": [
            "\n",
            "                Mengenal dunia Programming\n",
            "Mengenal dunia Programming\n"
          ],
          "name": "stdout"
        }
      ]
    }
  ]
}