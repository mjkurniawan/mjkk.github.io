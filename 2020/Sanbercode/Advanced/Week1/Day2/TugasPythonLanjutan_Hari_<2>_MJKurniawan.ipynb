{
  "nbformat": 4,
  "nbformat_minor": 0,
  "metadata": {
    "colab": {
      "name": "TugasPythonLanjutan_Hari_<2>_MJKurniawan.ipynb",
      "provenance": [],
      "collapsed_sections": [],
      "authorship_tag": "ABX9TyOs152O1+h7d2mJPGQh7aic",
      "include_colab_link": true
    },
    "kernelspec": {
      "name": "python3",
      "display_name": "Python 3"
    }
  },
  "cells": [
    {
      "cell_type": "markdown",
      "metadata": {
        "id": "view-in-github",
        "colab_type": "text"
      },
      "source": [
        "<a href=\"https://colab.research.google.com/github/mjkurniawan/mjkk.github.io/blob/master/2020/Sanbercode/Advanced/Week1/Day2/TugasPythonLanjutan_Hari_%3C2%3E_MJKurniawan.ipynb\" target=\"_parent\"><img src=\"https://colab.research.google.com/assets/colab-badge.svg\" alt=\"Open In Colab\"/></a>"
      ]
    },
    {
      "cell_type": "code",
      "metadata": {
        "id": "yXY7wMq2WGMR",
        "colab_type": "code",
        "colab": {
          "base_uri": "https://localhost:8080/",
          "height": 50
        },
        "outputId": "f1653e00-b660-4572-a263-328a0714b7a4"
      },
      "source": [
        "from urllib.request import urlopen\n",
        "from bs4 import BeautifulSoup\n",
        "\n",
        "alamat = \"https://blog.sanbercode.com/\"\n",
        "html = urlopen(alamat)\n",
        "data = BeautifulSoup(html, 'html.parser')\n",
        "\n",
        "judul = data.findAll(\"a\", {\"class\":\"text-dark\"})[1:4]\n",
        "list_1 = [x.text.strip() for x in judul]\n",
        "\n",
        "penulis = data.findAll(\"a\", {\"class\":\"text-muted text-capitalize\"})[0:3]\n",
        "list_2 = [i.text.strip() for i in penulis]\n",
        "\n",
        "print(list_1)\n",
        "print(list_2)"
      ],
      "execution_count": 17,
      "outputs": [
        {
          "output_type": "stream",
          "text": [
            "['Implementasi Debugging Tools Telescope di Laravel', 'Facebook Login Tutorial dengan Laravel 5.7 dan Socialite', 'Agile Software Development, Sebuah Pengenalan']\n",
            "['Iqbal Syahrul Siddiq', 'Iqbal Syahrul Siddiq', 'Jundi Amir']\n"
          ],
          "name": "stdout"
        }
      ]
    }
  ]
}